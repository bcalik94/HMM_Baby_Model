{
 "cells": [
  {
   "cell_type": "markdown",
   "metadata": {
    "nbgrader": {
     "grade": false,
     "grade_id": "cell-cdf5c1e89cd73689",
     "locked": true,
     "schema_version": 1,
     "solution": false
    }
   },
   "source": [
    "# Lab 2: Sequence Models\n",
    "\n",
    "In this lab, you will implement a **Hidden Markov Model (HMM)**. HMMs specify a **joint** probability over **observations** and **hidden states**. \n",
    "\n",
    "This is what we will do today:\n",
    "\n",
    "1. **Estimate** a simple HMM model from training data (supervised learning)\n",
    "2. Find the *best* sequence of hidden states for a given sequence of observations (we define \"best\" in 2 different ways!)\n",
    "\n",
    "\n",
    "------\n",
    "\n",
    "### Rules\n",
    "* The lab exercises should be made in **groups of two people**.\n",
    "\n",
    "* The assignment should submitted to **Blackboard** as `.ipynb`. Only **one submission per group**. See Blackboard for date of submission. \n",
    "\n",
    "* The **filename** should be `lab2_id1_id2.ipynb`.\n",
    "\n",
    "* The notebook is graded on a scale of **0-50**. The number of points for each question is indicated in parantheses. (Note: The total of 50 points is only for convenience and will be scaled- each of the four labs has the same weight in the course.) \n",
    "\n",
    "* The questions marked **BONUS** will give you bonus points (in addition to the 50 points); try them if you want an extra challenge. \n",
    "\n",
    "Notes on implementation:\n",
    "\n",
    "* You should **write your code and answers in this iPython Notebook** (see http://ipython.org/notebook.html for reference material). If you have problems, please contact your teaching assistant.\n",
    "\n",
    "* Use only **one cell for code** and **one cell for markdown** answers!    \n",
    "\n",
    "    * Put all code in the cell with the `# YOUR CODE HERE` comment.\n",
    "    \n",
    "    * For theoretical question, put your solution in the YOUR ANSWER HERE cell.\n",
    "    \n",
    "* Test your code and **make sure we can run your notebook**\n",
    "\n",
    "------"
   ]
  },
  {
   "cell_type": "markdown",
   "metadata": {
    "nbgrader": {
     "grade": false,
     "grade_id": "cell-c20720f24702422e",
     "locked": true,
     "schema_version": 1,
     "solution": false
    }
   },
   "source": [
    "## Notation\n",
    "\n",
    "$ \\Sigma := \\{ o_1, \\dots, o_J \\} $ is our set of **observations**\n",
    "\n",
    "$\\Lambda := \\{c_1, \\dots, c_K \\}$ is our set of **state labels**\n",
    "\n",
    "$\\Sigma^*$ are **all possible sequences** of observations (including empty string $\\epsilon$)\n",
    "\n",
    "$\\Lambda^*$ all possible sequences of hidden states (including empty string $\\epsilon$)\n",
    "\n",
    "> Extra info: we can say that $\\Sigma^*$ is the [Kleene-closure](https://en.wikipedia.org/wiki/Kleene_star) of $\\Sigma$, and $\\Lambda^*$ the Kleene-closure of $\\Lambda$."
   ]
  },
  {
   "cell_type": "markdown",
   "metadata": {
    "nbgrader": {
     "grade": false,
     "grade_id": "cell-e0563c61a6ff0ee4",
     "locked": true,
     "schema_version": 1,
     "solution": false
    }
   },
   "source": [
    "## A simple example: The Baby HMM\n",
    "\n",
    "We start with a simple example, so that we can easily verify that our code is correct.\n",
    "\n",
    "Consider that we are modeling how a baby behaves. We observe the baby doing the following things: laughing (`laugh`), crying (`cry`), and sleeping (`sleep`). This is our set $\\Sigma$ of **observations**. \n",
    "\n",
    "We presume that, at any moment, the baby can be either `hungry`, `bored`, or `happy`. Since babies cannot talk, each of these states is hidden. This is our set $\\Lambda$ of **hidden states**.\n",
    "\n",
    "**Now the question is: if we have a series of observations, can we predict what hidden states the baby went through?**\n",
    "\n",
    "To tackle this problem, we assume that the baby behaves like a **1st order discrete Markov chain**: the baby's current state only depends on its previous hidden state. The baby can be described as an HMM. (Yay!)\n",
    "\n",
    "For example, assume we observed the baby doing the following:\n",
    "\n",
    "```\n",
    "sleep cry laugh cry\n",
    "cry cry laugh sleep\n",
    "```\n",
    "\n",
    "We will use these sequences as our **test set**. We can try to find out the states of the baby for those observations."
   ]
  },
  {
   "cell_type": "markdown",
   "metadata": {
    "nbgrader": {
     "grade": false,
     "grade_id": "cell-2fe112701eae5d42",
     "locked": true,
     "schema_version": 1,
     "solution": false
    }
   },
   "source": [
    "Now, to train our model, we will need some examples of **observations** and **states**; this is our **training set**:\n",
    "\n",
    "```\n",
    "laugh/happy cry/bored cry/hungry sleep/happy\n",
    "cry/bored laugh/happy cry/happy sleep/happy\n",
    "cry/hungry laugh/happy cry/bored sleep/happy\n",
    "```\n",
    "\n",
    "So we have **pairs** observation/state."
   ]
  },
  {
   "cell_type": "code",
   "execution_count": 127,
   "metadata": {
    "nbgrader": {
     "grade": false,
     "grade_id": "cell-5a80c3b9c59cfc01",
     "locked": true,
     "schema_version": 1,
     "solution": false
    }
   },
   "outputs": [],
   "source": [
    "%matplotlib inline\n",
    "import numpy as np\n",
    "from collections import defaultdict\n",
    "from collections import namedtuple"
   ]
  },
  {
   "cell_type": "code",
   "execution_count": 128,
   "metadata": {
    "nbgrader": {
     "grade": false,
     "grade_id": "cell-ab15ee4ee723c00e",
     "locked": true,
     "schema_version": 1,
     "solution": false
    }
   },
   "outputs": [
    {
     "name": "stdout",
     "output_type": "stream",
     "text": [
      "test set (observations):\n",
      "['sleep', 'cry', 'laugh', 'cry']\n",
      "['cry', 'cry', 'laugh', 'sleep']\n",
      "\n",
      "training set (observation/state pairs):\n",
      "[laugh/happy, cry/bored, cry/hungry, sleep/happy]\n",
      "[cry/bored, laugh/happy, cry/happy, sleep/bored]\n",
      "[cry/hungry, cry/bored, sleep/happy]\n"
     ]
    }
   ],
   "source": [
    "# read in test data\n",
    "test_data = \"\"\"sleep cry laugh cry\n",
    "cry cry laugh sleep\"\"\"\n",
    "\n",
    "def test_reader(test_lines):\n",
    "    for line in test_lines.splitlines():\n",
    "        yield line.split()\n",
    "\n",
    "test_set = list(test_reader(test_data))\n",
    "\n",
    "# read in train data\n",
    "train_data = \"\"\"laugh/happy cry/bored cry/hungry sleep/happy\n",
    "cry/bored laugh/happy cry/happy sleep/bored\n",
    "cry/hungry cry/bored sleep/happy\"\"\"\n",
    "\n",
    "# for convenience, we define a Observation-State pair class\n",
    "Pair = namedtuple(\"Pair\", [\"obs\", \"state\"])\n",
    "Pair.__repr__ = lambda x: x.obs + \"/\" + x.state\n",
    "\n",
    "def train_reader(train_lines):\n",
    "    for line in train_data.splitlines():\n",
    "        # a pair is a string \"observation/state\" so we need to split on the \"/\"\n",
    "        yield [Pair(*pair.split(\"/\")) for pair in line.split()]\n",
    "\n",
    "training_set = list(train_reader(train_data))\n",
    "\n",
    "# print the results\n",
    "print(\"test set (observations):\")\n",
    "for seq in test_set:\n",
    "    print(seq)\n",
    "print(\"\\ntraining set (observation/state pairs):\")\n",
    "for seq in training_set:\n",
    "    print(seq)"
   ]
  },
  {
   "cell_type": "markdown",
   "metadata": {
    "nbgrader": {
     "grade": false,
     "grade_id": "cell-a98845e6e8374535",
     "locked": true,
     "schema_version": 1,
     "solution": false
    }
   },
   "source": [
    "#### Vocabularies \n",
    "It's going to be very useful if we can map states and observations to integers, so that we can identify them by a number. If we don't do this, then our implementation will be much slower. (This is relevant when we work with larger data, e.g. for POS tagging)\n",
    "\n",
    "Make sure you understand what is going on here: every time we look up a observation or state, the `defaultdict` will create a new key (index) if it has not seen that key (state or observation) before."
   ]
  },
  {
   "cell_type": "code",
   "execution_count": 129,
   "metadata": {
    "nbgrader": {
     "grade": false,
     "grade_id": "cell-387cb576fbdc997c",
     "locked": true,
     "schema_version": 1,
     "solution": false
    }
   },
   "outputs": [
    {
     "name": "stdout",
     "output_type": "stream",
     "text": [
      "\n",
      "Our vocabularies:\n",
      "defaultdict(<function <lambda> at 0x11f0b7d08>, {'happy': 0, 'bored': 1, 'hungry': 2})\n",
      "defaultdict(<function <lambda> at 0x1104152f0>, {'laugh': 0, 'cry': 1, 'sleep': 2})\n"
     ]
    }
   ],
   "source": [
    "# create mappings from state/obs to an ID\n",
    "state2i = defaultdict(lambda: len(state2i))\n",
    "obs2i = defaultdict(lambda: len(obs2i))\n",
    "\n",
    "for seq in training_set:\n",
    "    for example in seq:\n",
    "        state_id = state2i[example.state]\n",
    "        obs_id = obs2i[example.obs]\n",
    "        \n",
    "print(\"\\nOur vocabularies:\")\n",
    "print(state2i)\n",
    "print(obs2i)"
   ]
  },
  {
   "cell_type": "markdown",
   "metadata": {
    "nbgrader": {
     "grade": false,
     "grade_id": "cell-2940eafa637320ea",
     "locked": true,
     "schema_version": 1,
     "solution": false
    }
   },
   "source": [
    "The HMM for the first training set sequence looks like this:\n",
    "\n",
    "![hmm-baby-train-1](hmm-baby-train-1.png)\n",
    "\n",
    "Now, we will **estimate** the following probability distributions:\n",
    "\n",
    "- initial: $P( c_k \\,|\\, \\texttt{start})$\n",
    "- transition: $P( c_k \\,|\\, c_l )$\n",
    "- final: $P(\\texttt{stop} \\,|\\, c_k )$\n",
    "- emission: $P( o_l \\,|\\, c_k)$\n",
    "\n",
    "These distributions are all we need. Remember that:\n",
    "\n",
    "- the probability of transitioning to a state $c_k$ only depends on one previous state $c_l$ (1st order Markov assumption).\n",
    "- emitting an observation $o_l$ only depends on the state $c_k$."
   ]
  },
  {
   "cell_type": "markdown",
   "metadata": {
    "nbgrader": {
     "grade": false,
     "grade_id": "cell-430223fd21b6ce82",
     "locked": true,
     "schema_version": 1,
     "solution": false
    }
   },
   "source": [
    "## Finding the Maximum Likelihood Parameters\n",
    "\n",
    "Now we would like to know what those distributions look like from our data. This is called **estimation**. Given our training data, we count how many times each event occurs and normalize the counts to form proper probability distributions. \n",
    "\n",
    "Let's first do counts for the start probabilities:"
   ]
  },
  {
   "cell_type": "code",
   "execution_count": 130,
   "metadata": {
    "nbgrader": {
     "grade": false,
     "grade_id": "cell-df74082a4f0715ef",
     "locked": true,
     "schema_version": 1,
     "solution": false
    },
    "scrolled": true
   },
   "outputs": [
    {
     "name": "stdout",
     "output_type": "stream",
     "text": [
      "[1. 1. 1.]\n"
     ]
    }
   ],
   "source": [
    "# we can get the number of states and observations from our dictionaries\n",
    "num_states = len(state2i)\n",
    "num_observations = len(obs2i)\n",
    "\n",
    "# this creates a vector of length `num_states` filled with zeros\n",
    "counts_start = np.zeros(num_states)\n",
    "\n",
    "# now we count 1 every time a sequence starts with a certain state\n",
    "# we look up the index for the state that we want to count using the `state2i` dictionary\n",
    "for seq in training_set:\n",
    "    counts_start[state2i[seq[0].state]] += 1.\n",
    "\n",
    "print(counts_start)"
   ]
  },
  {
   "cell_type": "markdown",
   "metadata": {
    "nbgrader": {
     "grade": false,
     "grade_id": "cell-ba32d826a1471a2a",
     "locked": true,
     "schema_version": 1,
     "solution": false
    }
   },
   "source": [
    "We see each state once at the beginning of a sequence in the training set, so that is why we have a count of 1 for each of them.\n",
    "\n",
    "We now **normalize** those counts, so that we obtain a probability distribution:"
   ]
  },
  {
   "cell_type": "code",
   "execution_count": 131,
   "metadata": {
    "nbgrader": {
     "grade": false,
     "grade_id": "cell-a818b13defb8e711",
     "locked": true,
     "schema_version": 1,
     "solution": false
    },
    "scrolled": true
   },
   "outputs": [
    {
     "name": "stdout",
     "output_type": "stream",
     "text": [
      "start --> [0.33333333 0.33333333 0.33333333]\n"
     ]
    }
   ],
   "source": [
    "# since p_start is a numpy object, we can call sum on it; easy!\n",
    "total = counts_start.sum()\n",
    "\n",
    "# normalize: divide each count by the total\n",
    "p_start = counts_start / total  \n",
    "print('start', '-->', p_start)"
   ]
  },
  {
   "cell_type": "markdown",
   "metadata": {
    "nbgrader": {
     "grade": false,
     "grade_id": "cell-efc1949dc9262b12",
     "locked": true,
     "schema_version": 1,
     "solution": false
    }
   },
   "source": [
    "We now turn to the **transition probabilities** and **stop probabilities**. We count, and then we normalize:"
   ]
  },
  {
   "cell_type": "code",
   "execution_count": 132,
   "metadata": {
    "nbgrader": {
     "grade": false,
     "grade_id": "cell-c8f2dba45d15d44c",
     "locked": true,
     "schema_version": 1,
     "solution": false
    }
   },
   "outputs": [
    {
     "name": "stdout",
     "output_type": "stream",
     "text": [
      "Transition counts:\n",
      "[[1. 2. 1.]\n",
      " [2. 0. 1.]\n",
      " [0. 1. 0.]]\n",
      "Final counts:\n",
      "[2. 1. 0.]\n"
     ]
    }
   ],
   "source": [
    "# we can transition from any state to any other state in principle,\n",
    "# so we create a matrix filled with zeros so that we can count any pair of states\n",
    "# in practice, some transitions might not occur in the training data\n",
    "counts_trans = np.zeros([num_states, num_states])\n",
    "\n",
    "# for the final/stop probabilities, we only need to store `num_states` values.\n",
    "# so we use a vector\n",
    "counts_stop = np.zeros(num_states)\n",
    "\n",
    "# now we count transitions, one sequence at a time\n",
    "for seq in training_set:\n",
    "    for i in range(1, len(seq)):\n",
    "        \n",
    "        # convert the states to indexes\n",
    "        prev_state = state2i[seq[i-1].state]\n",
    "        current_state = state2i[seq[i].state]\n",
    "        \n",
    "        # count\n",
    "        counts_trans[current_state, prev_state] += 1.\n",
    "\n",
    "# count final states\n",
    "for seq in training_set:\n",
    "    state = state2i[seq[-1].state]\n",
    "    counts_stop[state] += 1.\n",
    "\n",
    "# print the counts\n",
    "print(\"Transition counts:\")\n",
    "print(counts_trans)\n",
    "\n",
    "print(\"Final counts:\")\n",
    "print(counts_stop)"
   ]
  },
  {
   "cell_type": "markdown",
   "metadata": {
    "nbgrader": {
     "grade": false,
     "grade_id": "cell-68e67a73fdfab5d3",
     "locked": true,
     "schema_version": 1,
     "solution": false
    }
   },
   "source": [
    "Now we can normalize again. We will need to collect the total counts per state.\n",
    "Take some time to understand that the totals consist of the transition counts AND the final counts."
   ]
  },
  {
   "cell_type": "code",
   "execution_count": 133,
   "metadata": {
    "nbgrader": {
     "grade": false,
     "grade_id": "cell-262f16a6645038a6",
     "locked": true,
     "schema_version": 1,
     "solution": false
    }
   },
   "outputs": [
    {
     "name": "stdout",
     "output_type": "stream",
     "text": [
      "[3. 3. 2.]\n"
     ]
    }
   ],
   "source": [
    "# Useful trick: np.sum(m, 0) sums matrix m along the first dimension:\n",
    "print(counts_trans.sum(0))"
   ]
  },
  {
   "cell_type": "code",
   "execution_count": 134,
   "metadata": {
    "nbgrader": {
     "grade": false,
     "grade_id": "cell-a2720bcd24a328fc",
     "locked": true,
     "schema_version": 1,
     "solution": false
    }
   },
   "outputs": [
    {
     "name": "stdout",
     "output_type": "stream",
     "text": [
      "Total counts per state:\n",
      " [5. 4. 2.] \n",
      "\n",
      "Transition probabilities:\n",
      " [[0.2  0.5  0.5 ]\n",
      " [0.4  0.   0.5 ]\n",
      " [0.   0.25 0.  ]]\n",
      "Final probabilities:\n",
      " [0.4  0.25 0.  ] \n",
      "\n"
     ]
    }
   ],
   "source": [
    "total_per_state = counts_trans.sum(0) + counts_stop\n",
    "print(\"Total counts per state:\\n\", total_per_state, \"\\n\")\n",
    "\n",
    "# now we normalize\n",
    "# here '/' works one column at a time in the matrix\n",
    "p_trans = counts_trans / total_per_state\n",
    "print(\"Transition probabilities:\\n\", p_trans)\n",
    "\n",
    "# here '/' divides the values in each corresponding index in the 2 vectors\n",
    "p_stop = counts_stop / total_per_state\n",
    "print(\"Final probabilities:\\n\", p_stop, \"\\n\")"
   ]
  },
  {
   "cell_type": "markdown",
   "metadata": {
    "nbgrader": {
     "grade": false,
     "grade_id": "cell-62194d4b1f2fc0bc",
     "locked": true,
     "schema_version": 1,
     "solution": false
    }
   },
   "source": [
    "**So far so good!** Now let's take care of **emission probabilities**."
   ]
  },
  {
   "cell_type": "code",
   "execution_count": 135,
   "metadata": {},
   "outputs": [
    {
     "name": "stdout",
     "output_type": "stream",
     "text": [
      "emission counts:\n",
      " [[2. 0. 0.]\n",
      " [1. 3. 2.]\n",
      " [2. 1. 0.]]\n",
      "p_emiss:\n",
      " [[0.4  0.   0.  ]\n",
      " [0.2  0.75 1.  ]\n",
      " [0.4  0.25 0.  ]]\n"
     ]
    }
   ],
   "source": [
    "# now we create a matrix to keep track of emission counts\n",
    "# in principle any states can emit any observation\n",
    "# so we need a matrix again\n",
    "counts_emiss = np.zeros([num_observations, num_states])\n",
    "\n",
    "# count\n",
    "for seq in training_set:\n",
    "    for obs, state in seq:\n",
    "        obs = obs2i[obs]\n",
    "        state = state2i[state]\n",
    "        counts_emiss[obs][state] += 1.\n",
    "\n",
    "# normalize\n",
    "p_emiss = counts_emiss / counts_emiss.sum(0)\n",
    "\n",
    "print(\"emission counts:\\n\", counts_emiss)\n",
    "print(\"p_emiss:\\n\", p_emiss)"
   ]
  },
  {
   "cell_type": "markdown",
   "metadata": {
    "nbgrader": {
     "grade": false,
     "grade_id": "cell-fc1d7ccaf0a06283",
     "locked": true,
     "schema_version": 1,
     "solution": false
    }
   },
   "source": [
    "This is a good moment for a sanity check. First, take a look at the training set to see if these probabilities are correct, i.e. check if  for each state $s_k$: $$\\sum_l P(s_l \\,|\\, s_k) = 1.0$$ Note that this includes transitions to \"stop\" state, so you have to take those into account.\n",
    "\n",
    "## Exercise 1: Sanity check (2.5 points)\n",
    "Write a function `sanity_check(...)` that checks if all distributions are correct. If (and only if) it discovers an incorrect distribution, it should throw an **AssertionError**. \n",
    "\n",
    "If you want, you can include some print statements to see what is going on. \n",
    "\n",
    "**[Python hint]**: use python [assert](https://www.tutorialspoint.com/python/assertions_in_python.htm) statements.\n"
   ]
  },
  {
   "cell_type": "code",
   "execution_count": 136,
   "metadata": {},
   "outputs": [],
   "source": [
    "def almost_one(p, eps=1e-3): # number is \"small enough to be insignificant\"*\n",
    "    return (1.-eps) < p < (1. + eps)\n",
    "\n",
    "# check for valid output\n",
    "def sanity_check(p_start=None, p_trans=None, p_stop=None, p_emiss=None): # 'NONE' will be overwritten when calling*\n",
    "\n",
    "    # check start distribution\n",
    "    assert (almost_one(sum(p_start)) == 1), \"Incorrect start distribution.\"\n",
    "    \n",
    "    # check transition and final distribution\n",
    "    for previous_state in range(0, len(p_trans[0])):\n",
    "        sum_p_trans = 0\n",
    "        for current_state in range(0, len(p_trans)): \n",
    "            # print(\"probability P(previous|current):\", p_trans[current_state][previous_state])\n",
    "            sum_p_trans += p_trans[current_state][previous_state]\n",
    "        assert (sum_p_trans + p_stop[previous_state] == 1), \"Incorrect transition and final distribution.\"\n",
    "        \n",
    "    # check emission distribution\n",
    "    for state in range(0, len(p_emiss[0])):\n",
    "        sum_p_emiss = 0\n",
    "        for observation in range(0, len(p_emiss)): \n",
    "            # print(\"probability P(observation|state):\", p_emiss[observation][state])\n",
    "            sum_p_emiss += p_emiss[observation][state]\n",
    "        assert (sum_p_emiss == 1), \"Incorrect emission distribution.\" \n",
    "        "
   ]
  },
  {
   "cell_type": "code",
   "execution_count": 137,
   "metadata": {},
   "outputs": [
    {
     "name": "stdout",
     "output_type": "stream",
     "text": [
      "All good!\n"
     ]
    }
   ],
   "source": [
    "# you can try your function out like this\n",
    "# (do not use this cell for your solution)\n",
    "try:\n",
    "    sanity_check(p_start=p_start, p_trans=p_trans, p_stop=p_stop, p_emiss=p_emiss)\n",
    "    print(\"All good!\")\n",
    "except AssertionError as e:\n",
    "    print(\"There was a problem: %s\" % str(e))"
   ]
  },
  {
   "cell_type": "markdown",
   "metadata": {
    "nbgrader": {
     "grade": false,
     "grade_id": "cell-65c6613cf4767c2f",
     "locked": true,
     "schema_version": 1,
     "solution": false
    }
   },
   "source": [
    "## Decoding a sequence\n",
    "\n",
    "Ok, so we have estimated a model. Great. Now what? Well, now we can **decode**! \n",
    "\n",
    "Given an observation sequence $o_1, o_2, \\dots, o_N$, we want to find the sequence of hidden states $s^* = s^*_1, s^*_2, \\dots, s^*_N$ that **best** explains those observations.\n",
    "\n",
    "But what does \"best\" mean?\n",
    "\n",
    "1. If we are interested in the best **global** assignment of states to the sequence as a whole, we can use the **Viterbi** algorithm. \n",
    "2. If we care more about minimizing the **local** error of getting each $s_i$ right, we can use **posterior decoding** (also called *max marginal decoding*). *(This is a bonus exercise at the end!)*\n"
   ]
  },
  {
   "cell_type": "markdown",
   "metadata": {
    "nbgrader": {
     "grade": false,
     "grade_id": "cell-91a84fbaef83d741",
     "locked": true,
     "schema_version": 1,
     "solution": false
    }
   },
   "source": [
    "### Decoding: The Viterbi Algorithm\n",
    "\n",
    "Viterbi gives us the best global hidden state sequence, i.e.:\n",
    "\n",
    "$$ \\begin{array}{lll}\n",
    "s^* &=& \\arg\\max_{s = s_1, s_2, \\dots, s_N} P(s_1, s_2, \\dots, s_N \\,|\\, o_1, o_2, \\dots, o_N ) \\\\\n",
    "    &=& \\arg\\max_{s = s_1, s_2, \\dots, s_N} P(s_1, s_2, \\dots, s_N, o_1, o_2, \\dots, o_N ) \n",
    "\\end{array}$$\n",
    "\n",
    "To explain Viterbi we will make use of a **trellis**, a kind of graph that shows us the possible states for each time step. \n",
    "\n",
    "For our earlier example, the trellis looks like this:\n",
    "\n",
    "![hmm-baby-train-1](hmm-baby-train-1-trellis.png)\n",
    "\n",
    "Note, that we can now label the edges of this trellis with the following probabilities:\n",
    "\n",
    "- $P_{\\text start}(c_k \\,|\\, \\text{start})$ on the three edges from \"start\"\n",
    "- $P_{\\text stop}(\\text{stop} \\,|\\, c_k)$ on the three edges leading to \"stop\"\n",
    "- $P_{\\text trans}(c_k \\,|\\, c_{l})$ on each remaining edge from state $c_l$ to $c_k$\n",
    "- $P_{\\text emiss}(o \\,|\\, c_k)$ from each state $c_k$, to an observation $o$ made from that state (not shown here)\n",
    "\n",
    "Do you see that our trellis nicely shows the independence assumptions of the HMM?"
   ]
  },
  {
   "cell_type": "markdown",
   "metadata": {
    "nbgrader": {
     "grade": false,
     "grade_id": "cell-64d5cd7e9c55167a",
     "locked": true,
     "schema_version": 1,
     "solution": false
    }
   },
   "source": [
    "#### A Naive approach to get the best sequence\n",
    "\n",
    "To see why the Viterbi algorithm is so useful, we can consider another way to calculate $s^*$:\n",
    "\n",
    "- Iterate over all possible state sequences (all ways to go from `start` to `stop`)\n",
    "    - Calculate the probability for that sequence\n",
    "    - Store the highest probability seen so far and its sequence\n",
    "- Return the sequence that had the maximum probability\n",
    "\n",
    "The problem with this approach is that there are a lot of possible sequences!\n",
    "\n",
    "# Exercise 2: How many possible state sequences are there? (5 points)\n",
    "\n",
    "*This is a theoretical question.* Assume that you have a set $\\Lambda$ of possible states (so there are $|\\Lambda|$ states), and that the observation sequence is of length $N$. Assume there is a transition from any state to any other state.\n",
    "Write down the formula that gives the number of sequences."
   ]
  },
  {
   "cell_type": "markdown",
   "metadata": {
    "nbgrader": {
     "grade": true,
     "grade_id": "cell-a3f990e075d01747",
     "locked": false,
     "points": 5,
     "schema_version": 1,
     "solution": true
    }
   },
   "source": [
    "Since every transition can go through from any state to any other state,every possible next sequential state is individually and independently distributed. Thus, number of possible state squences should be |Λ|^N. "
   ]
  },
  {
   "cell_type": "markdown",
   "metadata": {
    "nbgrader": {
     "grade": false,
     "grade_id": "cell-58d4f2277d79da32",
     "locked": true,
     "schema_version": 1,
     "solution": false
    }
   },
   "source": [
    "#### The Viterbi algorithm\n",
    "\n",
    "*We use a slightly different notation here compared to the lecture.*\n",
    "\n",
    "So how do we find the path with the highest score? The idea is that we can use our trellis to represent an **exponential number of paths**. Since we are only interested in the highest-scoring path, for every state at every time step, we only need to keep track of the **highest** probability that can lead us to that state. We can disregard any other paths that lead to that state, since they will for sure not be part of the highest-scoring path.\n",
    "\n",
    "Viterbi uses **dynamic programming**. Here, that means that we will re-use probabilities that we have already computed, so we never have to compute the score for the same sub-problem multiple times.\n",
    "\n",
    "Let's start at the beginning.\n",
    "\n",
    "For the first time step, the **viterbi score** is the transition probability of reaching a state $c_k$ from \"start\", times the probability of emitting the first observation $o_1$ from that state:\n",
    "\n",
    "$$\\text{viterbi}(1, c_k) = P_{\\text start}( c_k \\,|\\, \\text{start}) \\times P_{\\text emiss}(o_1 \\,|\\, c_k)$$\n",
    "\n",
    "So, the Viterbi trellis represents the path with maximum probability in position $i$ when we are in state $y_i$ having observed $o_1, o_2, \\dots, o_i$, the observations up to and including that point.\n",
    "\n",
    "Now that we have the viterbi scores for all states of the first time step in our trellis, we can use the following **recursive formula** to get the scores for all other states, one time step at a time:\n",
    "\n",
    "$$\\text{viterbi}(i, c_k) = \\big( \\max_{c_l \\in \\Lambda} P_{\\text trans}(c_k | c_l) \\times \\text{viterbi}(i-1, c_l) \\big) \\times P_{\\text emiss}(o_i \\,|\\, c_k)$$\n",
    "\n",
    "Finally, for our final state \"stop\" we need to do something special, since there is no observation there:\n",
    "\n",
    "$$\\text{viterbi}(N+1, \\text{stop}) = \\max_{c_l \\in \\Lambda} P_{\\text stop}(\\text{stop} \\,|\\, c_l) \\times \\text{viterbi}(i-1, c_l)  $$\n",
    "\n",
    "This is all we need to know what probability the highest scoring path has! Do you see how the dynamic programming helps us to solve this task efficiently?\n",
    "\n",
    "#### How did we get here?\n",
    "\n",
    "Once we reach the \"stop\" state we know the maximum probability, but we forgot how we got there! If you don't see this immediately, remember that, whenever we computed the viterbi score for a state, we took the maximum over all previous states' viterbi scores, times the transition from those states. But we didn't keep track of which state was actually selected in that \"max\" operation. So now that we are in \"stop\", we don't know how we got there.\n",
    "\n",
    "To solve this, we will use **backpointers**. Whenever we do a $\\max$, we store what state was selected by that max (i.e. the $\\arg\\max$):\n",
    "\n",
    "$$\\text{backtrack}(i, c_k) = \\arg\\max_{c_l \\in \\Lambda} P_{\\text trans}(c_k | c_l) \\times \\text{viterbi}(i-1, c_l)$$\n"
   ]
  },
  {
   "cell_type": "markdown",
   "metadata": {
    "nbgrader": {
     "grade": false,
     "grade_id": "cell-61fe883db37093ca",
     "locked": true,
     "schema_version": 1,
     "solution": false
    }
   },
   "source": [
    "#### Log probabilities\n",
    "\n",
    "Now you know enough to implement Viterbi! But before we start.. Because probabilities tend to get rather small when multiplying, causing numerical instabilities, we will use **log probabilities**. This means that, instead of multiplying, we can now **sum** probabilities, because:\n",
    "\n",
    "$$ \\log(uv) = \\log u + \\log v$$\n",
    "\n",
    "To get the probability of a  path trough our trellis from \"start\" to \"stop\", we can just **sum** the log-probabilities that we encounter. So, finding the best (\"Viterbi\") path means finding the path with the **highest score**.\n",
    "\n",
    "# Exercise 3: convert all probabilities to log-probabilities (2.5 points)"
   ]
  },
  {
   "cell_type": "code",
   "execution_count": 138,
   "metadata": {},
   "outputs": [
    {
     "name": "stdout",
     "output_type": "stream",
     "text": [
      "Before:\n",
      "\n",
      " Start:\n",
      " [0.33333333 0.33333333 0.33333333]\n",
      "\n",
      " Trans:\n",
      " [[0.2  0.5  0.5 ]\n",
      " [0.4  0.   0.5 ]\n",
      " [0.   0.25 0.  ]]\n",
      "\n",
      " Stop:\n",
      " [0.4  0.25 0.  ]\n",
      "\n",
      " Emiss:\n",
      " [[0.4  0.   0.  ]\n",
      " [0.2  0.75 1.  ]\n",
      " [0.4  0.25 0.  ]] \n",
      "\n",
      "After:\n",
      "\n",
      " Start:\n",
      " [-1.09861229 -1.09861229 -1.09861229]\n",
      "\n",
      " Trans:\n",
      " [[-1.60943791 -0.69314718 -0.69314718]\n",
      " [-0.91629073        -inf -0.69314718]\n",
      " [       -inf -1.38629436        -inf]]\n",
      "\n",
      " Stop:\n",
      " [-0.91629073 -1.38629436        -inf]\n",
      "\n",
      " Emiss:\n",
      " [[-0.91629073        -inf        -inf]\n",
      " [-1.60943791 -0.28768207  0.        ]\n",
      " [-0.91629073 -1.38629436        -inf]]\n"
     ]
    },
    {
     "name": "stderr",
     "output_type": "stream",
     "text": [
      "/anaconda3/lib/python3.6/site-packages/ipykernel_launcher.py:18: RuntimeWarning: divide by zero encountered in log\n",
      "/anaconda3/lib/python3.6/site-packages/ipykernel_launcher.py:19: RuntimeWarning: divide by zero encountered in log\n",
      "/anaconda3/lib/python3.6/site-packages/ipykernel_launcher.py:20: RuntimeWarning: divide by zero encountered in log\n"
     ]
    }
   ],
   "source": [
    "# Note: only run this cell once; otherwise you get NaN values.\n",
    "# If you get NaN values, try running all cells above first.\n",
    "print(\"Before:\")\n",
    "print(\"\\n Start:\\n\", p_start)\n",
    "print(\"\\n Trans:\\n\", p_trans)\n",
    "print(\"\\n Stop:\\n\", p_stop)\n",
    "print(\"\\n Emiss:\\n\", p_emiss, \"\\n\")\n",
    "\n",
    "def convert_to_log(p_start=None, p_trans=None, p_stop=None, p_emiss=None):\n",
    "    \"\"\"\n",
    "    Convert all probabilities to log-probabilities\n",
    "    \n",
    "    Important: only run this function with normal probabilities as input! \n",
    "    If you run this twice, things will break.\n",
    "    \"\"\"    \n",
    "    \n",
    "    p_start = np.log(p_start)\n",
    "    p_trans = np.log(p_trans)\n",
    "    p_stop = np.log(p_stop)\n",
    "    p_emiss = np.log(p_emiss)\n",
    "    \n",
    "    #raise NotImplementedError()\n",
    "    return p_start, p_trans, p_stop, p_emiss\n",
    "\n",
    "# do the conversion using your function\n",
    "p_start, p_trans, p_stop, p_emiss = convert_to_log(p_start=p_start, p_trans=p_trans, p_stop=p_stop, p_emiss=p_emiss)\n",
    "\n",
    "print(\"After:\")\n",
    "print(\"\\n Start:\\n\", p_start)\n",
    "print(\"\\n Trans:\\n\", p_trans)\n",
    "print(\"\\n Stop:\\n\", p_stop)\n",
    "print(\"\\n Emiss:\\n\", p_emiss)\n"
   ]
  },
  {
   "cell_type": "markdown",
   "metadata": {
    "nbgrader": {
     "grade": false,
     "grade_id": "cell-dd2a6b04cf0668e0",
     "locked": true,
     "schema_version": 1,
     "solution": false
    }
   },
   "source": [
    "#### Smoothing\n",
    "\n",
    "Oops! We got a big red warning! What happened? \n",
    "\n",
    "Some probabilities were 0.0, and the log function is not defined for zero, resulting in a **warning**.\n",
    "\n",
    "To prevent the error, we can add a small **smoothing** value to our **counts**, so that we never have a probability of zero.\n",
    "\n",
    "To make things easier, we define a `normalize_all` function below that does all the normalization again,\n",
    "but now adding a small value to all the counts."
   ]
  },
  {
   "cell_type": "code",
   "execution_count": 139,
   "metadata": {
    "nbgrader": {
     "grade": false,
     "grade_id": "cell-d511810070a63ddd",
     "locked": true,
     "schema_version": 1,
     "solution": false
    }
   },
   "outputs": [
    {
     "name": "stdout",
     "output_type": "stream",
     "text": [
      "Smoothed probabilities:\n",
      " [0.33333333 0.33333333 0.33333333] [[0.2037037  0.47727273 0.45833333]\n",
      " [0.38888889 0.02272727 0.45833333]\n",
      " [0.01851852 0.25       0.04166667]] [0.38888889 0.25       0.04166667] [[0.39622642 0.02325581 0.04347826]\n",
      " [0.20754717 0.72093023 0.91304348]\n",
      " [0.39622642 0.25581395 0.04347826]] \n",
      "\n",
      "Smoothed log-probabilities:\n",
      " [-1.09861229 -1.09861229 -1.09861229] [[-1.59108877 -0.7396672  -0.78015856]\n",
      " [-0.94446161 -3.78418963 -0.78015856]\n",
      " [-3.98898405 -1.38629436 -3.17805383]] [-0.94446161 -1.38629436 -3.17805383] [[-0.92576948 -3.76120012 -3.13549422]\n",
      " [-1.57239664 -0.32721291 -0.09097178]\n",
      " [-0.92576948 -1.36330484 -3.13549422]]\n"
     ]
    }
   ],
   "source": [
    "def normalize(x, smoothing=0.1, axis=0):\n",
    "    smoothed = x + smoothing\n",
    "    return smoothed / smoothed.sum(axis)\n",
    "\n",
    "def normalize_all(counts_start, counts_trans, counts_stop, counts_emiss, smoothing=0.1):\n",
    "    \"\"\"Normalize all counts to probabilities, optionally with smoothing.\"\"\"\n",
    "    p_start = normalize(counts_start, smoothing=smoothing)\n",
    "    p_emiss = normalize(counts_emiss, smoothing=smoothing)\n",
    "    \n",
    "    counts_trans_smoothed = counts_trans + smoothing\n",
    "    counts_stop_smoothed = counts_stop + smoothing\n",
    "    total_trans_stop = counts_trans_smoothed.sum(0) + counts_stop_smoothed\n",
    "    p_trans = counts_trans_smoothed / total_trans_stop\n",
    "    p_stop = counts_stop_smoothed / total_trans_stop\n",
    "    \n",
    "    return p_start, p_trans, p_stop, p_emiss\n",
    "\n",
    "\n",
    "# normalize with smoothing\n",
    "smoothing = 0.1\n",
    "p_start, p_trans, p_stop, p_emiss = normalize_all(\n",
    "    counts_start, counts_trans, counts_stop, counts_emiss, smoothing=smoothing)\n",
    "\n",
    "# convert to log-probabilities\n",
    "print(\"Smoothed probabilities:\\n\", p_start, p_trans, p_stop, p_emiss, \"\\n\")\n",
    "p_start, p_trans, p_stop, p_emiss = convert_to_log(p_start=p_start, p_trans=p_trans, p_stop=p_stop, p_emiss=p_emiss)\n",
    "print(\"Smoothed log-probabilities:\\n\", p_start, p_trans, p_stop, p_emiss)"
   ]
  },
  {
   "cell_type": "markdown",
   "metadata": {
    "nbgrader": {
     "grade": false,
     "grade_id": "cell-b6f521724c6db98b",
     "locked": true,
     "schema_version": 1,
     "solution": false
    }
   },
   "source": [
    "# Exercise 4: implement the Viterbi algorithm (40 points)\n",
    "\n",
    "You will now implement the Viterbi algorithm. Complete the function `viterbi(sequence, p_start, p_trans, p_emiss, p_stop)` below.\n",
    "\n",
    "**Input:** sequence ($o_1, ..., o_N$), $P_\\text{start}$, $P_\\text{trans}$, $P_\\text{emiss}$, $P_\\text{stop}$\n",
    "\n",
    "*Forward pass: compute the best path for every end state*\n",
    "\n",
    "- set $\\text{viterbi}(1, c_k)$ for each $c_k$\n",
    "- for $i=2$ to $N$, and for each $c_k$, set $\\text{viterbi}(i, c_k$) and $\\text{backtrack}(i, c_k)$\n",
    "- $\\text{max_prob} = \\max_{c_l} P_{\\text{stop}}(\\text{stop} \\,|\\, c_l) \\times viterbi(N, c_l)$\n",
    "\n",
    "*Backward pass: backtrack to get most likely path*\n",
    "- $\\hat{s}_N = \\arg\\max_{c_l} P_\\text{stop}(\\text{stop} \\,|\\, c_l) \\times viterbi(N, c_l)$\n",
    "- for $i = N-1$ to $1$: $\\hat{s}_i = \\text{backtrack}(i+1, \\hat{s}_{i+1})$\n",
    "\n",
    "**Output:** max_prob, Viterbi path $\\hat{s}_1, \\hat{s}_2, \\dots, \\hat{s}_N$"
   ]
  },
  {
   "cell_type": "code",
   "execution_count": 140,
   "metadata": {},
   "outputs": [
    {
     "name": "stdout",
     "output_type": "stream",
     "text": [
      "Start:\n",
      " [-1.09861229 -1.09861229 -1.09861229]\n",
      "\n",
      "             Happy     Bored       Hungry \n",
      "Sleep  [-0.92576948 -1.36330484 -3.13549422]\n",
      "Hungry  [-0.92576948 -3.76120012 -3.13549422]\n",
      "Cry  [-1.57239664 -0.32721291 -0.09097178]\n",
      "\n",
      " [[-2.02438176 -2.46191713 -4.2341065 ]\n",
      " [       -inf        -inf        -inf]\n",
      " [       -inf        -inf        -inf]]\n"
     ]
    }
   ],
   "source": [
    "# CELL VERWIJDEREN\n",
    "num_states = len(p_start)\n",
    "\n",
    "M = np.full([3,num_states], -np.inf)\n",
    "\n",
    "# print(np.array(M))\n",
    "for i in range(num_states):  \n",
    "    M[0][i] =  p_start[i] + p_emiss[obs2i[\"sleep\"]][i]\n",
    "\n",
    "print(\"Start:\\n\", p_start)\n",
    "print(\"\\n             Happy     Bored       Hungry \")\n",
    "print(\"Sleep \", p_emiss[list(obs2i.keys()).index(\"sleep\")])\n",
    "print(\"Hungry \", p_emiss[list(obs2i.keys()).index(\"laugh\")])\n",
    "print(\"Cry \", p_emiss[list(obs2i.keys()).index(\"cry\")])\n",
    "\n",
    "print(\"\\n\", M)\n"
   ]
  },
  {
   "cell_type": "code",
   "execution_count": 141,
   "metadata": {},
   "outputs": [],
   "source": [
    "def viterbi(sequence, p_start=None, p_trans=None, p_stop=None, p_emiss=None):\n",
    "    \"\"\"\n",
    "    Compute the Viterbi sequence. \n",
    "    Note: you have to use log-probabilities!\n",
    "    \n",
    "    The return value should be a tuple (max_prob, list_of_viterbi_states)\n",
    "    Return:\n",
    "      - best_score (float) the log-probability of the best path\n",
    "      - best_path (int list) the best path as a list of state IDs\n",
    "    \"\"\"\n",
    "    length = len(sequence)\n",
    "    num_states = len(p_start)\n",
    "    trellis = np.full([length, num_states], -np.inf) # matrix with length seq*num of states\n",
    "    backpointers = -np.ones([length, num_states], dtype=int)\n",
    "    \n",
    "    # initialize probability of start states\n",
    "    for i in range(num_states): \n",
    "            # fill in first column with all states**\n",
    "            trellis[0][i] = p_start[i]+ p_emiss[obs2i[sequence[0]]][i]\n",
    "\n",
    "   # creating the trellis scores \n",
    "    for t in range(1, length): # after t=0, each time t in the sequence\n",
    "        for i in range(num_states):           # each state \n",
    "            max_tr_prob = trellis[t-1][0] + p_trans[i][0] # assign the first transition probability to indexes \n",
    "            prev_st_selected = 0 \n",
    "            for j in range(1,num_states): # calling the previous state in time t\n",
    "                tr_prob = trellis[t-1][j] + p_trans[i][j]\n",
    "                if tr_prob > max_tr_prob:\n",
    "                    max_tr_prob = tr_prob \n",
    "                    prev_st_selected = j \n",
    "                  \n",
    "            \n",
    "            max_prob = max_tr_prob + p_emiss[obs2i[sequence[t]]][i]           \n",
    "            trellis[t][i] = max_prob\n",
    "        \n",
    "            backpointers[t][i] = prev_st_selected # backpointers are assigned with index\n",
    "     \n",
    "    for i in range(num_states): # adding the last probability\n",
    "            trellis[length - 1][i] += p_stop[i]\n",
    "    \n",
    "    best_score = np.max(trellis[-1][:])\n",
    "             \n",
    "    print(\"trellis: \\n\", trellis)\n",
    "    print(\"shape trellis: \\n\", np.shape(trellis))\n",
    "    print(\"backpointers: \\n\", backpointers)   \n",
    "   \n",
    "    # trellis to store Viterbi scores\n",
    "    # we store -inf as our initial scores since log(0)=-inf\n",
    "    \n",
    "     # back-tracking\n",
    "    best_path = np.zeros(length).astype(int)\n",
    "    best_path[length-1] =  np.argmax(trellis[length-1,:]) # last state\n",
    "    for i in range(length - 2,1,-1): # states of (last-1)th to 0th time step\n",
    "        best_path[i-1] = backpointers[i,best_path[i]]\n",
    "        \n",
    "    # backpointers to backtrack (to remember what prev. state caused the maximum score)\n",
    "    # we initialize with -1 values, to represent a non-existing index\n",
    "\n",
    "    return best_score, best_path"
   ]
  },
  {
   "cell_type": "markdown",
   "metadata": {},
   "source": [
    "#### Trying out Viterbi\n",
    "\n",
    "Once you have implemented the Viterbi algorithm, try it out on the following sequence.\n",
    "\n",
    "Note: to get all points, make sure that the cell below runs."
   ]
  },
  {
   "cell_type": "code",
   "execution_count": 142,
   "metadata": {},
   "outputs": [
    {
     "name": "stdout",
     "output_type": "stream",
     "text": [
      "['sleep', 'cry', 'laugh', 'cry']\n"
     ]
    }
   ],
   "source": [
    "test_sequence = test_set[0]\n",
    "print(test_set[0])"
   ]
  },
  {
   "cell_type": "code",
   "execution_count": 143,
   "metadata": {},
   "outputs": [
    {
     "name": "stdout",
     "output_type": "stream",
     "text": [
      "First test\n",
      "\n",
      "trellis: \n",
      " [[ -2.02438176  -2.46191713  -4.2341065 ]\n",
      " [ -4.77398097  -3.29605628  -3.93918327]\n",
      " [ -4.96149296  -8.48054194  -7.81784486]\n",
      " [ -9.06943998  -7.61946184 -12.21950261]]\n",
      "shape trellis: \n",
      " (4, 3)\n",
      "backpointers: \n",
      " [[-1 -1 -1]\n",
      " [ 1  0  1]\n",
      " [ 1  2  1]\n",
      " [ 0  0  0]]\n",
      "Test sequence is: ['sleep', 'cry', 'laugh', 'cry']\n",
      "The log-probability of the best path is: -7.619461837738772\n",
      "The best path as a list of state IDs is: [0 1 0 1] \n",
      "\n",
      "Second test \n",
      "\n",
      "trellis: \n",
      " [[ -2.67100893  -1.4258252   -1.18958407]\n",
      " [ -3.54213927  -2.29695554  -2.90309134]\n",
      " [ -3.96239221  -7.44445001  -6.81874411]\n",
      " [ -7.42371207  -7.65645302 -14.2649243 ]]\n",
      "shape trellis: \n",
      " (4, 3)\n",
      "backpointers: \n",
      " [[-1 -1 -1]\n",
      " [ 2  2  1]\n",
      " [ 1  2  1]\n",
      " [ 0  0  0]]\n",
      "Test sequence is: ['cry', 'cry', 'laugh', 'sleep']\n",
      "The log-probability of the best path is: -7.423712066090819\n",
      "The best path as a list of state IDs is: [0 1 0 0]\n"
     ]
    }
   ],
   "source": [
    "\"\"\"Test out your Viterbi-algorithm here.\"\"\"\n",
    "\n",
    "test_sequence_1 = test_set[0]\n",
    "test_sequence_2 = test_set[1]\n",
    "\n",
    "print(\"First test\\n\")\n",
    "best_score_1, best_path_1 = viterbi(test_sequence_1, p_start=p_start, p_trans=p_trans, p_stop=p_stop, p_emiss=p_emiss)\n",
    "print(\"Test sequence is:\", test_set[0])\n",
    "print(\"The log-probability of the best path is:\", best_score_1)\n",
    "print(\"The best path as a list of state IDs is:\", best_path_1, \"\\n\")\n",
    "\n",
    "\n",
    "print(\"Second test \\n\")\n",
    "best_score_2, best_path_2 = viterbi(test_sequence_2, p_start=p_start, p_trans=p_trans, p_stop=p_stop, p_emiss=p_emiss)\n",
    "print(\"Test sequence is:\", test_set[1])\n",
    "print(\"The log-probability of the best path is:\", best_score_2)\n",
    "print(\"The best path as a list of state IDs is:\", best_path_2)\n",
    "\n",
    "i2state = {v : k for k, v in state2i.items()}\n",
    "# print([i2state[i] for i in best_path])"
   ]
  },
  {
   "cell_type": "markdown",
   "metadata": {
    "nbgrader": {
     "grade": false,
     "grade_id": "cell-6626d09623968520",
     "locked": true,
     "schema_version": 1,
     "solution": false
    }
   },
   "source": [
    "# Congratulations!\n",
    "\n",
    "You have reached the end of lab 2.\n",
    "\n",
    "If you want an additional challenge, and to attempt 10 additional (bonus) points, go ahead and try the following sections. Otherwise, you're done!"
   ]
  },
  {
   "cell_type": "markdown",
   "metadata": {
    "nbgrader": {
     "grade": false,
     "grade_id": "cell-4caecec1fc7924c9",
     "locked": true,
     "schema_version": 1,
     "solution": false
    }
   },
   "source": [
    "# Bonus: Posterior Decoding\n",
    "\n",
    "What if we don't care about the global sequence of hidden states, but more about getting **individual** states right? \n",
    "We now aim to find the state with the **highest state posterior** for each position. So what is a state posterior? It is defined as:\n",
    "\n",
    "$$ P( s_i \\,|\\, o_1, o_2, \\dots, o_N) $$\n",
    "\n",
    "It gives the probability, with observation sequence $o_1, o_2, \\dots, o_N$, that the i'th hidden state was $s_i$. \n",
    "\n",
    "The best state $s_i^*$ for that position is then:\n",
    "\n",
    "$$ s_i^* = \\arg\\max_{s_i \\in \\Lambda} P( s_i \\,|\\, o_1, o_2, \\dots, o_N) $$\n",
    "\n",
    "If we calculate this for each position, we are performing posterior decoding. Do you see the difference with Viterbi? Now we choose the hidden states **independenly**, based on the observations $o = o_1, o_2, \\dots, o_N$, one position at a time. \n",
    "\n",
    "#### How to calculate a state posterior?\n",
    "\n",
    "Good question. Calculating the state posterior is not so easy. Remember that we are interested in one specific time step. To choose the best state for this time step, we need to take into account all paths that lead there. You will soon see why. \n",
    "\n",
    "First, let's define a few useful terms.\n",
    "\n",
    "**Sequence posterior**\n",
    "$$ P( s = s_1, s_2, \\dots, s_N \\,|\\, o = o_1, o_2, \\dots, o_N)  = \\frac{P(s, o)}{P(o)}$$\n",
    "\n",
    "To compute this, we need the **likelihood**:\n",
    "\n",
    "$$ P( o = o_1, o_2, \\dots, o_N ) = \\sum_{s} P(o, s)$$\n",
    "\n",
    "To calculate the likelihood, we thus need to sum over **all possible state sequences s**!\n",
    "\n",
    "Since the number of state sequences can grow so quickly, we will do something smarter than summing over all of them.\n",
    "(We used a similar trick with the Viterbi-algorithm!)"
   ]
  },
  {
   "cell_type": "markdown",
   "metadata": {
    "nbgrader": {
     "grade": false,
     "grade_id": "cell-2a92a96f1a873e31",
     "locked": true,
     "schema_version": 1,
     "solution": false
    }
   },
   "source": [
    "#### Forward and Backward probabilities\n",
    "\n",
    "We can use compute **forward** and **backward** probabilities, which help us compute the likelihood in **linear time**: O(N).\n",
    "\n",
    "Let's first see how they are computed, before we will use them to calculate the likelihood (and finally the state posterior).\n",
    "\n",
    "The forward probability for a position i and a state $c_k$, gives us the probability of being in that state and that position, having observed $o_1, o_2, \\dots, o_i$:\n",
    "\n",
    "$$\\text{forward}(i, c_k) = P(c_k, o_1, o_2, \\dots, o_i)$$\n",
    "\n",
    "Because of the independence assumptions in the HMM, we can calculate the forward probability of position $i$ using the forward probabilities of each state in position $i-1$:\n",
    "\n",
    "$$\\text{forward}(i, c_k) = \\Big( \\sum_{c_l \\in \\Lambda} P_{\\text trans}(c_k \\,|\\, c_l) \\times \\text{forward}(i-1, c_l) \\Big) \\times P_{\\text emiss}(o_i \\,|\\, c_k)  $$\n",
    "\n",
    "And our special cases:\n",
    "\n",
    "$$\\text{forward}(1, c_k) =P_{\\text start}(c_k \\,|\\, \\text{start}) \\times P_{\\text emiss} (o_1 \\, |\\, c_k)$$\n",
    "$$\\text{forward}(N+1, \\text{stop}) = \\sum_{c_l \\in \\Lambda} P_{\\text trans}(\\text{stop} \\,|\\, c_l) \\times \\text{forward}(N, c_l) $$\n",
    "\n",
    "Did you notice that this is almost exactly the same as the Viterbi scores? Instead of taking the maximum, we are now **summing**!\n",
    "\n",
    "**Warning: you cannot \"just sum\" two probabilities in the log-domain!**\n",
    "A brute-force way to do this correctly would be to do $\\log(\\exp(a) + \\exp(b)$, i.e. convert the probabilities back and then sum, and then convert them to the log domain again. But this exposes us to numeric instabilities again! So a better way to do it is using $$\\log(\\exp(a) + \\exp(b)) = a + \\log(1 + \\exp(b − a)) \\qquad \\text{for } a < b$$\n",
    "\n",
    "We are providing a function `logsum()` for you that sums a list of values in the log-domain (using the above strategy).\n",
    "\n",
    "Now that we can compute forward probabilities: did you notice that $\\text{forward}(N+1, \\text{stop})$ gives us the **likelihood**, i.e. $P(o_1, o_2, \\dots, o_N)$? Take a moment to see why.\n",
    "\n",
    "Sadly, this is still not enough to calculate the state posteror. (You probably guessed, since this is calleed the Forward-**Backward** algorithm!). Right now we know the probability of being in state $s_i$ having observed $o_1, o_2, \\dots, o_i$, but we do **not** know the probability of being in that state knowing $o_{i+1}, \\dots, o_N$. This is what the backward probability gives us:\n",
    "\n",
    "$$\\text{backward}(i, c_l) = \\sum_{c_k \\in \\Lambda} P_\\text{trans}(c_k \\,|\\, c_l) \\times \\text{backward}(i+1,c_k) \\times P_\\text{emiss}(o_{i+1} \\,|\\, c_k)$$\n",
    "\n",
    "And our special cases:\n",
    "\n",
    "$$\\text{backward}(N, c_l) = P_\\text{stop}( \\text{stop} \\,|\\, c_l)$$\n",
    "$$\\text{backward}(0, \\text{start}) = \\sum_{c_k \\in \\Lambda} P_{\\text start}(c_k| \\text{start}) \\times \\text{backward}(1, c_k) \\times P_{\\text emiss}(o_1 \\,|\\, c_k)$$\n",
    "\n",
    "Can you see that we can also calculate the likelihood using just backward probabilities? You can find it in $\\text{backward}(0, \\text{start})$.\n"
   ]
  },
  {
   "cell_type": "markdown",
   "metadata": {
    "nbgrader": {
     "grade": false,
     "grade_id": "cell-f68826be76ed9405",
     "locked": true,
     "schema_version": 1,
     "solution": false
    }
   },
   "source": [
    "Now, implement the forward and backward algorithms.\n",
    "\n",
    "The forward function should return two values:\n",
    "\n",
    "- all forward scores for the trellis (length x num_states)\n",
    "- the forward score of the stop state (not part of the trellis)\n",
    "\n",
    "The backward function should similarly return two values."
   ]
  },
  {
   "cell_type": "code",
   "execution_count": 201,
   "metadata": {},
   "outputs": [],
   "source": [
    "def logsum(logv):\n",
    "    \"\"\"Sum of probabilities in log-domain.\"\"\"\n",
    "    res = -np.inf\n",
    "    for val in logv:\n",
    "        res = logsum_pair(res, val)\n",
    "    return res\n",
    "\n",
    "def logsum_pair(logx, logy):\n",
    "    \"\"\"\n",
    "    Return log(x+y), avoiding arithmetic underflow/overflow.\n",
    "    \"\"\"\n",
    "    if logx == -np.inf:\n",
    "        return logy\n",
    "    elif logx > logy:\n",
    "        return logx + np.log1p(np.exp(logy-logx))\n",
    "    else:\n",
    "        return logy + np.log1p(np.exp(logx-logy))"
   ]
  },
  {
   "cell_type": "code",
   "execution_count": 202,
   "metadata": {},
   "outputs": [],
   "source": [
    "def forward(sequence, p_start=None, p_trans=None, p_stop=None, p_emiss=None):\n",
    "    \"\"\"\n",
    "    Compute Forward probabilities.\n",
    "    Note: all probabilities should be log-probabilities.\n",
    "    Return:\n",
    "      - trellis with forward probabilities, excluding the \"stop\" cell\n",
    "      - the forward probability of the stop cell (this is the log-likelihood!)\n",
    "    \"\"\"\n",
    "    \n",
    "    length = len(sequence)\n",
    "    num_states = len(p_start)\n",
    "    \n",
    "    # trellis to store forward probabilities\n",
    "    fw_trellis = np.full([length, num_states], -np.inf)\n",
    "    f_prev = np.full(num_states, -np.inf)\n",
    "    \n",
    "    \n",
    "    # base case: P(start|state) * P(obs|state)\n",
    "    for i in range(num_states): \n",
    "        fw_trellis[0][i] = p_start[i] + p_emiss[obs2i[sequence[0]]][i]\n",
    "\n",
    " \n",
    "    # inductive step:\n",
    "    for t in range(1, length): \n",
    "        \n",
    "        # states @ t\n",
    "        for i in range(num_states): \n",
    "            f_prev_sum = np.full(num_states, -np.inf)\n",
    "            \n",
    "            # states @ t-1\n",
    "            for j in range(num_states): \n",
    "                \n",
    "                # store: P(previous st) * P(current st|previous st)\n",
    "                f_prev_sum[j] = (fw_trellis[t-1][j] + p_trans[i][j]) \n",
    "\n",
    "            # current st = sum(P(state|previous) * P(previous)) * P(obs|state)\n",
    "            fw_trellis[t][i] = logsum(f_prev_sum) + p_emiss[obs2i[sequence[0]]][i]\n",
    "    \n",
    "    \n",
    "    # final step: P(end|state) * P(state|previous)\n",
    "    f_termination = np.full(num_states, -np.inf)\n",
    "    \n",
    "    for st in range(num_states):\n",
    "        f_termination[st] = p_stop[st] + fw_trellis[length-1][st]\n",
    "        \n",
    "    f_log_likelihood = logsum(f_termination)\n",
    "            \n",
    "\n",
    "    return fw_trellis, f_log_likelihood\n"
   ]
  },
  {
   "cell_type": "code",
   "execution_count": 203,
   "metadata": {},
   "outputs": [
    {
     "name": "stdout",
     "output_type": "stream",
     "text": [
      "Test seq ==  ['sleep', 'cry', 'laugh', 'cry'] \n",
      "\n",
      "fw_trellis:\n",
      "  [[ -2.02438176  -2.46191713  -4.2341065 ]\n",
      " [ -3.52616174  -4.17766301  -6.84999773]\n",
      " [ -5.20909492  -5.76355457  -8.55654658]\n",
      " [ -6.84016071  -7.44451956 -10.15504388]] \n",
      "\n",
      "f_log_likelihood:\n",
      " -7.480698080206542\n"
     ]
    }
   ],
   "source": [
    "# test forward algo.\n",
    "test_sequence = test_set[0]\n",
    "print(\"Test seq == \", test_set[0], \"\\n\")\n",
    "fw_trellis, f_log_likelihood = forward(test_sequence, p_start=p_start, p_trans=p_trans, p_stop=p_stop, p_emiss=p_emiss)\n",
    "print(\"fw_trellis:\\n \", fw_trellis, \"\\n\")\n",
    "print(\"f_log_likelihood:\\n\", f_log_likelihood)\n"
   ]
  },
  {
   "cell_type": "code",
   "execution_count": 204,
   "metadata": {},
   "outputs": [],
   "source": [
    "def backward(sequence, p_start=None, p_trans=None, p_stop=None, p_emiss=None):\n",
    "    \"\"\"\n",
    "    Compute Backward probabilities.\n",
    "    Note: all probabilities should be log-probabilities.  Return:\n",
    "      - trellis with backward probabilities, excluding the \"start\" cell\n",
    "      - the forward probability of the start cell (this is ALSO the log-likelihood!)\n",
    "    \"\"\"\n",
    "    \n",
    "    length = len(sequence)\n",
    "    num_states = len(p_start)\n",
    "    \n",
    "    # trellis to store forward probabilities\n",
    "    bw_trellis = np.full([length, num_states], -np.inf)\n",
    "    \n",
    "    # base case: P(end|state) == 1\n",
    "    for i in range(num_states): \n",
    "        bw_trellis[length-1][i] = 1\n",
    "       \n",
    "    \n",
    "    # inductive step:\n",
    "    for t in range(1, length): \n",
    "        \n",
    "        # states @ t\n",
    "        for i in range(num_states): \n",
    "            b_next_sum = np.full(num_states, -np.inf)\n",
    "            \n",
    "            # states @ t+1\n",
    "            for j in range(num_states): \n",
    "                \n",
    "                # store: P(next st) * P(next st|previous st) * P(obs|next st)\n",
    "                b_next_sum[j] = (bw_trellis[length-t][j] + p_trans[i][j]) + p_emiss[obs2i[sequence[0]]][j]\n",
    "\n",
    "            # current st = sum(P(next st) * P(previous st|next st) * P(obs|next st))\n",
    "            bw_trellis[length-1-t][i] = logsum(b_next_sum) \n",
    " \n",
    "\n",
    "    # final step: sum(P(start|state) * P(obs|state) * P(state))\n",
    "    termination = np.full(num_states, -np.inf)\n",
    "    \n",
    "    for st in range(num_states):\n",
    "        termination[st] = p_start[st] + p_emiss[obs2i[sequence[0]]][st] + bw_trellis[0][st]\n",
    "        \n",
    "    b_log_likelihood = logsum(termination)\n",
    "            \n",
    "        \n",
    "    return bw_trellis, b_log_likelihood\n"
   ]
  },
  {
   "cell_type": "code",
   "execution_count": 205,
   "metadata": {},
   "outputs": [
    {
     "name": "stdout",
     "output_type": "stream",
     "text": [
      "Test seq ==  ['sleep', 'cry', 'laugh', 'cry'] \n",
      "\n",
      "bw_trellis:\n",
      "  [[-3.81577894 -3.98260243 -4.92093738]\n",
      " [-2.18471316 -2.30163744 -3.32244007]\n",
      " [-0.50177997 -0.71574588 -1.61589123]\n",
      " [ 1.          1.          1.        ]] \n",
      "\n",
      "b_log_likelihood:\n",
      " -5.380988687608448\n"
     ]
    }
   ],
   "source": [
    "# test backward algo.\n",
    "test_sequence = test_set[0]\n",
    "print(\"Test seq == \", test_set[0], \"\\n\")\n",
    "bw_trellis, b_log_likelihood = backward(test_sequence, p_start=p_start, p_trans=p_trans, p_stop=p_stop, p_emiss=p_emiss)\n",
    "print(\"bw_trellis:\\n \", bw_trellis, \"\\n\")\n",
    "print(\"b_log_likelihood:\\n\", b_log_likelihood)\n"
   ]
  },
  {
   "cell_type": "code",
   "execution_count": 206,
   "metadata": {},
   "outputs": [],
   "source": [
    "def forward_backward(sequence):\n",
    "    \"\"\"\n",
    "    Compute forward and backward probabilities.\n",
    "    Return:\n",
    "    - fw_trellis\n",
    "    - fw_log_likelihood (the value of the \"stop\" cell, not part of the trellis)\n",
    "    - bw_trellis\n",
    "    - bw_log_likelihood (the value of the \"start\" cell, not part of the trellis)\n",
    "    \"\"\"\n",
    "    fw_trellis, fw_ll = forward(sequence, p_start=p_start, p_trans=p_trans, p_stop=p_stop, p_emiss=p_emiss)\n",
    "    bw_trellis, bw_ll = backward(sequence, p_start=p_start, p_trans=p_trans, p_stop=p_stop, p_emiss=p_emiss)\n",
    "    return fw_trellis, fw_ll, bw_trellis, bw_ll"
   ]
  },
  {
   "cell_type": "code",
   "execution_count": 207,
   "metadata": {},
   "outputs": [
    {
     "name": "stdout",
     "output_type": "stream",
     "text": [
      "Test sequence: \n",
      " ['sleep', 'cry', 'laugh', 'cry'] \n",
      "\n",
      "Forward trellis: \n",
      " [[ -2.02438176  -2.46191713  -4.2341065 ]\n",
      " [ -3.52616174  -4.17766301  -6.84999773]\n",
      " [ -5.20909492  -5.76355457  -8.55654658]\n",
      " [ -6.84016071  -7.44451956 -10.15504388]]\n",
      "Forward log-likelihood: \n",
      " -7.480698080206542 \n",
      "\n",
      "Backward trellis: \n",
      " [[-3.81577894 -3.98260243 -4.92093738]\n",
      " [-2.18471316 -2.30163744 -3.32244007]\n",
      " [-0.50177997 -0.71574588 -1.61589123]\n",
      " [ 1.          1.          1.        ]]\n",
      "Bakcward log-likelihood: \n",
      " -5.380988687608448\n"
     ]
    }
   ],
   "source": [
    "test_sequence = test_set[0]\n",
    "fw_trellis, fw_ll, bw_trellis, bw_ll = forward_backward(test_sequence)\n",
    "\n",
    "print(\"Test sequence: \\n\", test_sequence, \"\\n\")\n",
    "print(\"Forward trellis: \\n\", fw_trellis)\n",
    "print(\"Forward log-likelihood: \\n\", fw_ll, \"\\n\")\n",
    "print(\"Backward trellis: \\n\", bw_trellis)\n",
    "print(\"Bakcward log-likelihood: \\n\", bw_ll)"
   ]
  },
  {
   "cell_type": "markdown",
   "metadata": {},
   "source": [
    "## Posterior Decoding\n",
    "\n",
    "Implement a function that, given the forward and backward probabilities, and a sequence of observations $o_1, o_2, \\dots, o_N$, returns the best hidden state sequence, according to posterior decoding."
   ]
  },
  {
   "cell_type": "code",
   "execution_count": 208,
   "metadata": {},
   "outputs": [],
   "source": [
    "def posterior_decode(sequence, fw_trellis, bw_trellis, ll, p_trans, p_emiss):\n",
    "    \"\"\"\n",
    "    Return best hidden state sequence according to Posterior decoding\n",
    "    \"\"\"\n",
    "\n",
    "    length = len(sequence)\n",
    "    num_states = fw_trellis.shape[1]\n",
    "        \n",
    "    # calculate the state posteriors\n",
    "    state_posteriors = np.zeros([length, num_states])\n",
    "    \n",
    "    for i in range(length):\n",
    "        for st in range(num_states):\n",
    "            state_posteriors[i][st] = fw_trellis[i][st] * bw_trellis[i][st] / (p_stop[st] + fw_trellis[length-1][st])\n",
    "            \n",
    "    state_posteriors = np.exp(state_posteriors)\n",
    "    \n",
    "    # the best states are simply the arg max of the state posteriors\n",
    "    best_sequence = np.argmax(state_posteriors, axis=1)\n",
    "\n",
    "    return state_posteriors, best_sequence"
   ]
  },
  {
   "cell_type": "code",
   "execution_count": 209,
   "metadata": {},
   "outputs": [
    {
     "name": "stdout",
     "output_type": "stream",
     "text": [
      "[[0.37072721 0.32946069 0.20956725]\n",
      " [0.37172584 0.33660207 0.18142133]\n",
      " [0.71478961 0.62679134 0.35451594]\n",
      " [2.40770976 2.32336425 2.14178962]]\n",
      "[0 0 0 0]\n"
     ]
    }
   ],
   "source": [
    "state_posteriors, best_sequence = posterior_decode(test_sequence, fw_trellis, bw_trellis, fw_ll, p_trans, p_emiss)\n",
    "\n",
    "print(state_posteriors)\n",
    "print(best_sequence)\n"
   ]
  },
  {
   "cell_type": "markdown",
   "metadata": {},
   "source": [
    "              Acknowlegements: A version of this lab was originally developed in collaboration with Joost Bastings"
   ]
  }
 ],
 "metadata": {
  "celltoolbar": "Create Assignment",
  "kernelspec": {
   "display_name": "Python 3",
   "language": "python",
   "name": "python3"
  },
  "language_info": {
   "codemirror_mode": {
    "name": "ipython",
    "version": 3
   },
   "file_extension": ".py",
   "mimetype": "text/x-python",
   "name": "python",
   "nbconvert_exporter": "python",
   "pygments_lexer": "ipython3",
   "version": "3.6.10"
  }
 },
 "nbformat": 4,
 "nbformat_minor": 4
}
